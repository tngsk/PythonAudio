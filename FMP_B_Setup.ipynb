{
 "cells": [
  {
   "cell_type": "markdown",
   "source": [
    "## Fundamental of Music Processing (FMP) のインストール\n",
    "\n",
    "FMP Notebooks をダウンロードする\n",
    "\n",
    "[https://www.audiolabs-erlangen.de/resources/MIR/FMP/B/B_GetStarted.html](https://www.audiolabs-erlangen.de/resources/MIR/FMP/B/B_GetStarted.html)\n",
    "\n",
    "conda 環境を作成する\n",
    "\n",
    "`$ conda env create -f FMP_1/environment.yml`\n",
    "\n",
    "Avtivate\n",
    "\n",
    "`$ conda activate FMP`\n",
    "\n",
    "FMP Notebooks Index\n",
    "\n",
    "[FMP Notebooks](https://www.audiolabs-erlangen.de/resources/MIR/FMP/C0/C0.html)\n"
   ],
   "metadata": {}
  }
 ],
 "metadata": {
  "interpreter": {
   "hash": "937b5a612b54de7525def4ba298c1cff07d48448d895af2a0617ebe61b01de57"
  },
  "kernelspec": {
   "name": "python3",
   "display_name": "Python 3.7.11 64-bit ('FMP': conda)"
  },
  "language_info": {
   "codemirror_mode": {
    "name": "ipython",
    "version": 3
   },
   "file_extension": ".py",
   "mimetype": "text/x-python",
   "name": "python",
   "nbconvert_exporter": "python",
   "pygments_lexer": "ipython3",
   "version": "3.7.11"
  }
 },
 "nbformat": 4,
 "nbformat_minor": 2
}